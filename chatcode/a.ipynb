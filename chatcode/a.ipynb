{
 "cells": [
  {
   "cell_type": "code",
   "execution_count": 1,
   "metadata": {},
   "outputs": [],
   "source": [
    "import json"
   ]
  },
  {
   "cell_type": "code",
   "execution_count": 2,
   "metadata": {},
   "outputs": [],
   "source": [
    "def get_jsonfile():\n",
    "    file = 'onboard.json'\n",
    "    with open(file, 'r') as f:\n",
    "        jsonfile = json.load(f)\n",
    "        return jsonfile"
   ]
  },
  {
   "cell_type": "code",
   "execution_count": 7,
   "metadata": {},
   "outputs": [
    {
     "data": {
      "text/plain": [
       "{'firstname': {'datatype': 'string'},\n",
       " 'lastname': {'datatype': 'string'},\n",
       " 'dateofbirth': {'datatype': 'date'},\n",
       " 'contactnumber': {'datatype': 'mobile'},\n",
       " 'emailaddress': {'datatype': 'email'},\n",
       " 'address': {'datatype': 'string'},\n",
       " 'nationality': {'datatype': 'string'},\n",
       " 'gender': {'datatype': 'gender'},\n",
       " 'maritalstatus': {'datatype': 'maritalstatus'}}"
      ]
     },
     "execution_count": 7,
     "metadata": {},
     "output_type": "execute_result"
    }
   ],
   "source": [
    "b =get_jsonfile()\n",
    "b"
   ]
  },
  {
   "cell_type": "code",
   "execution_count": 6,
   "metadata": {},
   "outputs": [
    {
     "data": {
      "text/plain": [
       "dict"
      ]
     },
     "execution_count": 6,
     "metadata": {},
     "output_type": "execute_result"
    }
   ],
   "source": [
    "type(b)"
   ]
  },
  {
   "cell_type": "code",
   "execution_count": null,
   "metadata": {},
   "outputs": [],
   "source": []
  }
 ],
 "metadata": {
  "kernelspec": {
   "display_name": "venv",
   "language": "python",
   "name": "python3"
  },
  "language_info": {
   "codemirror_mode": {
    "name": "ipython",
    "version": 3
   },
   "file_extension": ".py",
   "mimetype": "text/x-python",
   "name": "python",
   "nbconvert_exporter": "python",
   "pygments_lexer": "ipython3",
   "version": "3.11.6"
  }
 },
 "nbformat": 4,
 "nbformat_minor": 2
}
