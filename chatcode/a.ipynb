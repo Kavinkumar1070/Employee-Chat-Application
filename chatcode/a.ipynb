{
 "cells": [
  {
   "cell_type": "code",
   "execution_count": 40,
   "metadata": {},
   "outputs": [],
   "source": [
    "import json\n",
    "from datetime import datetime"
   ]
  },
  {
   "cell_type": "code",
   "execution_count": 51,
   "metadata": {},
   "outputs": [
    {
     "name": "stdout",
     "output_type": "stream",
     "text": [
      "400\n",
      "{'detail': 'Contact number  must be 10 numbers'}\n"
     ]
    }
   ],
   "source": [
    "import requests\n",
    "\n",
    "url = 'http://127.0.0.1:8000/personal/employees'\n",
    "payload = {\n",
    "    \"firstname\": \"string\",\n",
    "    \"lastname\": \"string\",\n",
    "    \"dateofbirth\": \"1990-05-15\",\n",
    "    \"contactnumber\": 0,\n",
    "    \"emailaddress\": \"user@example.com\",\n",
    "    \"address\": \"string\",\n",
    "    \"nationality\": \"string\",\n",
    "    \"gender\": \"string\",\n",
    "    \"maritalstatus\": \"string\"\n",
    "}\n",
    "\n",
    "response = requests.post(url, json=payload)\n",
    "print(response.status_code)\n",
    "print(response.json())\n"
   ]
  },
  {
   "cell_type": "code",
   "execution_count": 39,
   "metadata": {},
   "outputs": [],
   "source": [
    "details = {'firstname': 'sfzdxgchv', 'lastname': 'rf', 'dateofbirth': '1995-08-09', 'contactnumber': '7856321496', 'emailaddress': 'ka@gmail.com', 'address': 'dsfv', 'nationality': 'dsfv', 'gender': 'male', 'maritalstatus': 'single'}\n",
    "firstname=details['firstname']"
   ]
  },
  {
   "cell_type": "code",
   "execution_count": 33,
   "metadata": {},
   "outputs": [],
   "source": [
    "# Convert dateofbirth to datetime.date\n",
    "details['dateofbirth'] = datetime.strptime(details['dateofbirth'], '%Y-%m-%d').strftime('%Y-%m-%d')\n",
    "# Convert contactnumber to integer\n",
    "details['contactnumber'] = int(details['contactnumber'])"
   ]
  },
  {
   "cell_type": "code",
   "execution_count": 34,
   "metadata": {},
   "outputs": [],
   "source": [
    "import requests\n",
    "\n",
    "def post_personal_details(payload):\n",
    "    url = \"http://127.0.0.1:8000/roles/roles/2/functions/\"  # Replace with your local FastAPI endpoint\n",
    "    headers = {\"Content-Type\": \"application/json\"}  # Specify content type as JSON\n",
    "    try:\n",
    "        response = requests.post(url, json=payload, headers=headers)\n",
    "        response.raise_for_status()  # Check for HTTP errors\n",
    "        result = response.json()\n",
    "    except requests.exceptions.RequestException as e:\n",
    "        print(f\"An error occurred: {e}\")\n",
    "        result = None\n",
    "    return result\n"
   ]
  },
  {
   "cell_type": "code",
   "execution_count": 50,
   "metadata": {},
   "outputs": [
    {
     "name": "stdout",
     "output_type": "stream",
     "text": [
      "An error occurred: 400 Client Error: Bad Request for url: http://127.0.0.1:8000/personal/employees\n",
      "None\n"
     ]
    }
   ],
   "source": [
    "import requests\n",
    "\n",
    "def post_personal_details():\n",
    "    url = \"http://127.0.0.1:8000/personal/employees\"\n",
    "    headers = {\n",
    "        \"accept\": \"application/json\",\n",
    "        \"Content-Type\": \"application/json\"\n",
    "    }\n",
    "    payload = {\n",
    "        \"firstname\": \"kavi\",\n",
    "        \"lastname\": \"kk\",\n",
    "        \"dateofbirth\": \"1990-05-15\",\n",
    "        \"contactnumber\": 8564565850,\n",
    "        \"emailaddress\": \"kavin@example.com\",\n",
    "        \"address\": \"string\",\n",
    "        \"nationality\": \"string\",\n",
    "        \"gender\": \"male\",\n",
    "        \"maritalstatus\": \"single\"\n",
    "    }\n",
    "    try:\n",
    "        response = requests.post(url, json=payload, headers=headers)\n",
    "        response.raise_for_status()  # Check for HTTP errors\n",
    "        result = response.json()\n",
    "    except requests.exceptions.RequestException as e:\n",
    "        print(f\"An error occurred: {e}\")\n",
    "        result = None\n",
    "    return result\n",
    "\n",
    "# Example usage\n",
    "response = post_personal_details()\n",
    "print(response)\n"
   ]
  },
  {
   "cell_type": "code",
   "execution_count": 26,
   "metadata": {},
   "outputs": [
    {
     "data": {
      "text/plain": [
       "{'firstname': 'sfzdxgchv',\n",
       " 'lastname': 'rf',\n",
       " 'dateofbirth': datetime.date(1995, 8, 9),\n",
       " 'contactnumber': 7856321496,\n",
       " 'emailaddress': 'ka@gmail.com',\n",
       " 'address': 'dsfv',\n",
       " 'nationality': 'dsfv',\n",
       " 'gender': 'male',\n",
       " 'maritalstatus': 'single'}"
      ]
     },
     "execution_count": 26,
     "metadata": {},
     "output_type": "execute_result"
    }
   ],
   "source": [
    "details"
   ]
  },
  {
   "cell_type": "code",
   "execution_count": 35,
   "metadata": {},
   "outputs": [
    {
     "name": "stdout",
     "output_type": "stream",
     "text": [
      "An error occurred: 400 Client Error: Bad Request for url: http://127.0.0.1:8000/personal/employees\n"
     ]
    }
   ],
   "source": [
    "post_personal_details(details)"
   ]
  },
  {
   "cell_type": "code",
   "execution_count": 48,
   "metadata": {},
   "outputs": [],
   "source": [
    "def onboard_personal_details():\n",
    "    url = \"http://127.0.0.1:8000/roles/roles/2/functions/\"\n",
    "    try:\n",
    "        response = requests.get(url)\n",
    "        response.raise_for_status()  # Check for HTTP errors\n",
    "        permission_data = response.json()\n",
    "    except requests.exceptions.RequestException as e:\n",
    "        print(f\"An error occurred: {e}\")\n",
    "        permission_data = None\n",
    "    return permission_data"
   ]
  },
  {
   "cell_type": "code",
   "execution_count": 3,
   "metadata": {},
   "outputs": [],
   "source": [
    "detail = {'firstname': 'asds', 'lastname': 's', 'dateofbirth': '1888-08-08', 'contactnumber': 5555566666, 'emailaddress': 'asd@552sad.com', 'address': 'adss', 'nationality': 'sad', 'gender': 'male', 'maritalstatus': 'divorced'}"
   ]
  },
  {
   "cell_type": "code",
   "execution_count": 4,
   "metadata": {},
   "outputs": [],
   "source": [
    "import requests\n",
    "def abc(payload):\n",
    "    url = 'http://127.0.0.1:8000/personal/employees'\n",
    "    payload = payload\n",
    "    response = requests.post(url, json=payload)\n",
    "    print(response.status_code)\n",
    "    print(response.json())\n",
    "    \n"
   ]
  },
  {
   "cell_type": "code",
   "execution_count": 6,
   "metadata": {},
   "outputs": [
    {
     "name": "stdout",
     "output_type": "stream",
     "text": [
      "200\n",
      "Email Send Successfully\n"
     ]
    }
   ],
   "source": [
    "abc(detail)"
   ]
  },
  {
   "cell_type": "code",
   "execution_count": 49,
   "metadata": {},
   "outputs": [
    {
     "data": {
      "text/plain": [
       "{'jsonfile': 'teamlead.json',\n",
       " 'role_id': 2,\n",
       " 'id': 6,\n",
       " 'function': 'Approve Leave Request'}"
      ]
     },
     "execution_count": 49,
     "metadata": {},
     "output_type": "execute_result"
    }
   ],
   "source": [
    "onboard_personal_details()"
   ]
  },
  {
   "cell_type": "code",
   "execution_count": 15,
   "metadata": {},
   "outputs": [],
   "source": [
    "def post_permission():\n",
    "    url = \"https://converse-ecom-bk-py-stag-7905c7a31adc.herokuapp.com/product/{id}?product_id=1\" \n",
    "    response = requests.get(url)\n",
    "    permission_data = response.json()\n",
    "    return permission_data\n"
   ]
  },
  {
   "cell_type": "code",
   "execution_count": 41,
   "metadata": {},
   "outputs": [],
   "source": [
    "import httpx"
   ]
  },
  {
   "cell_type": "code",
   "execution_count": 46,
   "metadata": {},
   "outputs": [],
   "source": [
    "async def test_post():\n",
    "    url = \"http://localhost:8000/personal/employees\"\n",
    "    data = {'firstname': 'sfzdxgchv',\n",
    "                'lastname': 'rf',\n",
    "                'dateofbirth': \"1990-09-02\",\n",
    "                'contactnumber': 7856321496,\n",
    "                'emailaddress': 'ka@gmail.com',\n",
    "                'address': 'dsfv',\n",
    "                'nationality': 'dsfv',\n",
    "                'gender': 'male',\n",
    "                'maritalstatus': 'single'}\n",
    "    async with httpx.AsyncClient() as client:\n",
    "        response = await client.post(url, json=data)\n",
    "    return response.json()"
   ]
  },
  {
   "cell_type": "code",
   "execution_count": 47,
   "metadata": {},
   "outputs": [
    {
     "data": {
      "text/plain": [
       "<coroutine object test_post at 0x0000017988E99FC0>"
      ]
     },
     "execution_count": 47,
     "metadata": {},
     "output_type": "execute_result"
    }
   ],
   "source": [
    "test_post()"
   ]
  },
  {
   "cell_type": "code",
   "execution_count": null,
   "metadata": {},
   "outputs": [],
   "source": []
  }
 ],
 "metadata": {
  "kernelspec": {
   "display_name": "venv",
   "language": "python",
   "name": "python3"
  },
  "language_info": {
   "codemirror_mode": {
    "name": "ipython",
    "version": 3
   },
   "file_extension": ".py",
   "mimetype": "text/x-python",
   "name": "python",
   "nbconvert_exporter": "python",
   "pygments_lexer": "ipython3",
   "version": "3.11.6"
  }
 },
 "nbformat": 4,
 "nbformat_minor": 2
}
