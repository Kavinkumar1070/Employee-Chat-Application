{
 "cells": [
  {
   "cell_type": "code",
   "execution_count": 1,
   "metadata": {},
   "outputs": [],
   "source": [
    "a= {'project': 'update personal details', 'url': 'http://127.0.0.1:8000/admin/employees/{employee_id}', 'method': 'PUT', 'payload': {'employee_id': 'cds0004', 'firstname': 'None', 'lastname': 'None', 'dateofbirth': None, 'contactnumber': None, 'emailaddress': None, 'address': 'None', 'nationality': 'american', 'gender': None, 'maritalstatus': None}}"
   ]
  },
  {
   "cell_type": "code",
   "execution_count": 2,
   "metadata": {},
   "outputs": [
    {
     "data": {
      "text/plain": [
       "dict"
      ]
     },
     "execution_count": 2,
     "metadata": {},
     "output_type": "execute_result"
    }
   ],
   "source": [
    "type(a)"
   ]
  },
  {
   "cell_type": "code",
   "execution_count": 9,
   "metadata": {},
   "outputs": [
    {
     "data": {
      "text/plain": [
       "{'employee_id': 'cds0004',\n",
       " 'firstname': 'None',\n",
       " 'lastname': 'None',\n",
       " 'dateofbirth': None,\n",
       " 'contactnumber': None,\n",
       " 'emailaddress': None,\n",
       " 'address': 'None',\n",
       " 'nationality': 'american',\n",
       " 'gender': None,\n",
       " 'maritalstatus': None}"
      ]
     },
     "execution_count": 9,
     "metadata": {},
     "output_type": "execute_result"
    }
   ],
   "source": [
    "b"
   ]
  },
  {
   "cell_type": "code",
   "execution_count": 22,
   "metadata": {},
   "outputs": [
    {
     "name": "stdout",
     "output_type": "stream",
     "text": [
      "{'employee_id': 'cds0004', 'nationality': 'american'}\n"
     ]
    }
   ],
   "source": [
    "b = a['payload']\n",
    "c={}\n",
    "for key,value in b.items():\n",
    "    if value is not None and value != \"None\":\n",
    "        c[key] = value \n",
    "print(c)"
   ]
  },
  {
   "cell_type": "code",
   "execution_count": 23,
   "metadata": {},
   "outputs": [],
   "source": [
    "b = a['payload']\n",
    "filtered_payload = {}\n",
    "\n",
    "# Filter out None and \"None\" values from the payload\n",
    "for key, value in b.items():\n",
    "    if value is not None and value != \"None\":\n",
    "        filtered_payload[key] = value\n",
    "\n",
    "# Create a new dictionary including project, url, method, and filtered payload\n",
    "result = {\n",
    "    'project': a['project'],\n",
    "    'url': a['url'],\n",
    "    'method': a['method'],\n",
    "    'payload': filtered_payload\n",
    "}"
   ]
  },
  {
   "cell_type": "code",
   "execution_count": 24,
   "metadata": {},
   "outputs": [
    {
     "data": {
      "text/plain": [
       "{'project': 'update personal details',\n",
       " 'url': 'http://127.0.0.1:8000/admin/employees/{employee_id}',\n",
       " 'method': 'PUT',\n",
       " 'payload': {'employee_id': 'cds0004', 'nationality': 'american'}}"
      ]
     },
     "execution_count": 24,
     "metadata": {},
     "output_type": "execute_result"
    }
   ],
   "source": [
    "result"
   ]
  }
 ],
 "metadata": {
  "kernelspec": {
   "display_name": "Python 3",
   "language": "python",
   "name": "python3"
  },
  "language_info": {
   "codemirror_mode": {
    "name": "ipython",
    "version": 3
   },
   "file_extension": ".py",
   "mimetype": "text/x-python",
   "name": "python",
   "nbconvert_exporter": "python",
   "pygments_lexer": "ipython3",
   "version": "3.11.6"
  }
 },
 "nbformat": 4,
 "nbformat_minor": 2
}
