{
 "cells": [
  {
   "cell_type": "code",
   "execution_count": 5,
   "metadata": {},
   "outputs": [],
   "source": [
    "from groq import Groq"
   ]
  },
  {
   "cell_type": "code",
   "execution_count": 6,
   "metadata": {},
   "outputs": [
    {
     "data": {
      "text/plain": [
       "'admin.json'"
      ]
     },
     "execution_count": 6,
     "metadata": {},
     "output_type": "execute_result"
    }
   ],
   "source": [
    "def choose_json(role):\n",
    "    json_file = ['admin','employee','teamlead','onboard']                                                 \n",
    "    for i in json_file:\n",
    "        if i == role:\n",
    "            return i +'.json'\n",
    "        \n",
    "jsonfile = choose_json('admin')\n",
    "jsonfile"
   ]
  },
  {
   "cell_type": "code",
   "execution_count": 7,
   "metadata": {},
   "outputs": [],
   "source": [
    "import json"
   ]
  },
  {
   "cell_type": "code",
   "execution_count": 8,
   "metadata": {},
   "outputs": [],
   "source": [
    "file = 'admin.json'\n",
    "with open(file, 'r') as f:\n",
    "        json_config = json.load(f)\n",
    "        project_names = json_config.keys()\n",
    "        projectinfo ={}\n",
    "        for i in project_names:\n",
    "            projectinfo[i] = json_config[i]['project description']\n",
    "            projectinfo\n",
    "with open(file, 'r') as f:\n",
    "        json_config = json.load(f)\n",
    "        project_names = json_config.keys()\n",
    "        projectinfo ={}\n",
    "        for i in project_names:\n",
    "            projectinfo[i] = json_config[i]['project description']\n",
    "            projectinfo\n",
    "with open(file, 'r') as f:\n",
    "        json_config = json.load(f)\n",
    "        project_names = json_config.keys()\n",
    "        projectinfo ={}\n",
    "        for i in project_names:\n",
    "            projectinfo[i] = json_config[i]['project description']\n",
    "            projectinfo"
   ]
  },
  {
   "cell_type": "code",
   "execution_count": 9,
   "metadata": {},
   "outputs": [
    {
     "data": {
      "text/plain": [
       "dict_keys(['create personal detail', 'get personal detail', 'update personal detail', 'get employee detail', 'delete employee detail', 'update employee detail', 'create new role', 'delete role', 'update role', 'get role', 'assign role to employee', 'create role function', 'update role function', 'get role function', 'delete role function', 'create new leave', 'get pending leaves', 'get leave history', 'delete leave record', 'update leave status', 'create leave calender', 'get leave calender', 'update leave calender', 'update password'])"
      ]
     },
     "execution_count": 9,
     "metadata": {},
     "output_type": "execute_result"
    }
   ],
   "source": [
    "projectinfo.keys()"
   ]
  },
  {
   "cell_type": "code",
   "execution_count": 13,
   "metadata": {},
   "outputs": [],
   "source": [
    "\n",
    "\n",
    "def project_available_check(project_name):\n",
    "    if project_name not in projectinfo.keys():\n",
    "        print('not')\n",
    "    else:\n",
    "        print('available')"
   ]
  },
  {
   "cell_type": "code",
   "execution_count": 11,
   "metadata": {},
   "outputs": [],
   "source": [
    "def project_available_check(project_name,projectinfo):\n",
    "    if project_name not in projectinfo.keys():\n",
    "        return None\n",
    "    else:\n",
    "        return project_name"
   ]
  },
  {
   "cell_type": "code",
   "execution_count": 16,
   "metadata": {},
   "outputs": [],
   "source": [
    "project_name = 'create personal detail'"
   ]
  },
  {
   "cell_type": "code",
   "execution_count": 17,
   "metadata": {},
   "outputs": [
    {
     "name": "stdout",
     "output_type": "stream",
     "text": [
      "create personal detail\n"
     ]
    }
   ],
   "source": [
    "print(project_available_check(project_name,projectinfo))"
   ]
  },
  {
   "cell_type": "code",
   "execution_count": null,
   "metadata": {},
   "outputs": [],
   "source": []
  }
 ],
 "metadata": {
  "kernelspec": {
   "display_name": "Python 3",
   "language": "python",
   "name": "python3"
  },
  "language_info": {
   "codemirror_mode": {
    "name": "ipython",
    "version": 3
   },
   "file_extension": ".py",
   "mimetype": "text/x-python",
   "name": "python",
   "nbconvert_exporter": "python",
   "pygments_lexer": "ipython3",
   "version": "3.11.6"
  }
 },
 "nbformat": 4,
 "nbformat_minor": 2
}
